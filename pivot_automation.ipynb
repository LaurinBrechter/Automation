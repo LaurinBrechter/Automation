{
 "cells": [
  {
   "cell_type": "markdown",
   "metadata": {},
   "source": [
    "In excel, Pivot tables are a great way of summarizing information through aggregation functions. But if we want to aggregate information from multiple files, sheets or data sources (e.g., a Database) a Python script can be more suitable.\n",
    "\n",
    "- Given: \n",
    "    - multiple excel files in one folder\n",
    "    - or one excel with multiple sheets\n",
    "    - or a combination of both\n",
    "    - aggregation columns and functions\n",
    "- goal: combine all of the excel files/workshetts in one pivot table with given\n",
    "- if a folder is given, this will exhaustively concatenate and pivot all the sheets from all the files in the folder.\n",
    "\n",
    "\n",
    "Source of example data:\n",
    "\n",
    "https://drive.google.com/file/d/1a11pvERd-Z9oy5nGXDJK-bDwOMiDhRTc/view"
   ]
  },
  {
   "cell_type": "code",
   "execution_count": 9,
   "metadata": {},
   "outputs": [],
   "source": [
    "import os\n",
    "import pandas as pd\n",
    "import numpy as np\n",
    "\n",
    "def combine_pivot(file=None, folder=None, aggby=None, aggfunc=None):\n",
    "    \n",
    "    # concatenate all sheets in a given excel workbook.\n",
    "    if file:\n",
    "        # read in file\n",
    "        excel_file = pd.ExcelFile(file)\n",
    "        \n",
    "        # get the sheet names\n",
    "        sheet_names = excel_file.sheet_names\n",
    "        sheets = []\n",
    "        \n",
    "        # read in each sheet name and append to a list\n",
    "        for sheet_name in sheet_names:\n",
    "            sheets.append(excel_file.parse(sheet_name))\n",
    "        \n",
    "        # concatenate the sheets (i.e. list items) found in the workbook\n",
    "        dfs = pd.concat(sheets, axis=0)\n",
    "          \n",
    "    if folder:\n",
    "        dfs = []\n",
    "        file_names = os.listdir(folder)\n",
    "        \n",
    "        for file_name in file_names:\n",
    "            \n",
    "            # use the same function to concatenate all the sheets in the workbook.\n",
    "            excel_file_concat = combine_pivot(file=folder + \"\\\\\"+ file_name)\n",
    "            dfs.append(excel_file_concat)\n",
    "            \n",
    "        dfs = pd.concat(dfs, axis=0)\n",
    "            \n",
    "            \n",
    "    # if needed, aggregate the sheets (only if an aggregation column and function is given.)\n",
    "    if aggby and aggfunc:\n",
    "        return dfs.groupby(aggby).agg(aggfunc)\n",
    "    \n",
    "    # if not, just return the concatenated data.\n",
    "    else:\n",
    "        return dfs"
   ]
  },
  {
   "cell_type": "code",
   "execution_count": 13,
   "metadata": {},
   "outputs": [
    {
     "data": {
      "text/html": [
       "<div>\n",
       "<style scoped>\n",
       "    .dataframe tbody tr th:only-of-type {\n",
       "        vertical-align: middle;\n",
       "    }\n",
       "\n",
       "    .dataframe tbody tr th {\n",
       "        vertical-align: top;\n",
       "    }\n",
       "\n",
       "    .dataframe thead th {\n",
       "        text-align: right;\n",
       "    }\n",
       "</style>\n",
       "<table border=\"1\" class=\"dataframe\">\n",
       "  <thead>\n",
       "    <tr style=\"text-align: right;\">\n",
       "      <th></th>\n",
       "      <th>Amount</th>\n",
       "    </tr>\n",
       "    <tr>\n",
       "      <th>Line #</th>\n",
       "      <th></th>\n",
       "    </tr>\n",
       "  </thead>\n",
       "  <tbody>\n",
       "    <tr>\n",
       "      <th>1</th>\n",
       "      <td>17.937500</td>\n",
       "    </tr>\n",
       "    <tr>\n",
       "      <th>2</th>\n",
       "      <td>17.846154</td>\n",
       "    </tr>\n",
       "    <tr>\n",
       "      <th>3</th>\n",
       "      <td>18.133333</td>\n",
       "    </tr>\n",
       "    <tr>\n",
       "      <th>4</th>\n",
       "      <td>18.055556</td>\n",
       "    </tr>\n",
       "  </tbody>\n",
       "</table>\n",
       "</div>"
      ],
      "text/plain": [
       "           Amount\n",
       "Line #           \n",
       "1       17.937500\n",
       "2       17.846154\n",
       "3       18.133333\n",
       "4       18.055556"
      ]
     },
     "execution_count": 13,
     "metadata": {},
     "output_type": "execute_result"
    }
   ],
   "source": [
    "# get the average \"Amount\" per line\n",
    "combine_pivot(file=\"data\\\\workerdata.xlsx\", aggby=[\"Line #\"], aggfunc={\"Amount\":np.mean})"
   ]
  },
  {
   "cell_type": "code",
   "execution_count": 12,
   "metadata": {},
   "outputs": [
    {
     "data": {
      "text/html": [
       "<div>\n",
       "<style scoped>\n",
       "    .dataframe tbody tr th:only-of-type {\n",
       "        vertical-align: middle;\n",
       "    }\n",
       "\n",
       "    .dataframe tbody tr th {\n",
       "        vertical-align: top;\n",
       "    }\n",
       "\n",
       "    .dataframe thead th {\n",
       "        text-align: right;\n",
       "    }\n",
       "</style>\n",
       "<table border=\"1\" class=\"dataframe\">\n",
       "  <thead>\n",
       "    <tr style=\"text-align: right;\">\n",
       "      <th></th>\n",
       "      <th>Amount</th>\n",
       "    </tr>\n",
       "    <tr>\n",
       "      <th>Line #</th>\n",
       "      <th></th>\n",
       "    </tr>\n",
       "  </thead>\n",
       "  <tbody>\n",
       "    <tr>\n",
       "      <th>1</th>\n",
       "      <td>17.956522</td>\n",
       "    </tr>\n",
       "    <tr>\n",
       "      <th>2</th>\n",
       "      <td>17.878049</td>\n",
       "    </tr>\n",
       "    <tr>\n",
       "      <th>3</th>\n",
       "      <td>18.090909</td>\n",
       "    </tr>\n",
       "    <tr>\n",
       "      <th>4</th>\n",
       "      <td>18.074074</td>\n",
       "    </tr>\n",
       "  </tbody>\n",
       "</table>\n",
       "</div>"
      ],
      "text/plain": [
       "           Amount\n",
       "Line #           \n",
       "1       17.956522\n",
       "2       17.878049\n",
       "3       18.090909\n",
       "4       18.074074"
      ]
     },
     "execution_count": 12,
     "metadata": {},
     "output_type": "execute_result"
    }
   ],
   "source": [
    "# get the average \"Amount\" per line\n",
    "combine_pivot(folder=\"data\", aggby=[\"Line #\"], aggfunc={\"Amount\":np.mean})"
   ]
  },
  {
   "cell_type": "code",
   "execution_count": null,
   "metadata": {},
   "outputs": [],
   "source": []
  }
 ],
 "metadata": {
  "interpreter": {
   "hash": "93ff2fb3ab55f45baf9b992255903249eaebee6bb8e37ed653eb50e096a7d927"
  },
  "kernelspec": {
   "display_name": "Python 3.8.10 64-bit",
   "language": "python",
   "name": "python3"
  },
  "language_info": {
   "codemirror_mode": {
    "name": "ipython",
    "version": 3
   },
   "file_extension": ".py",
   "mimetype": "text/x-python",
   "name": "python",
   "nbconvert_exporter": "python",
   "pygments_lexer": "ipython3",
   "version": "3.8.10"
  },
  "orig_nbformat": 4
 },
 "nbformat": 4,
 "nbformat_minor": 2
}
